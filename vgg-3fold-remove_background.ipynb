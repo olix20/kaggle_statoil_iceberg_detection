{
 "cells": [
  {
   "cell_type": "code",
   "execution_count": 1,
   "metadata": {
    "_cell_guid": "7922e149-72fa-48cd-a545-b70bddb40d28",
    "_uuid": "9341f2516086ca38bca96e06a9dbfc39f813a95a"
   },
   "outputs": [
    {
     "name": "stderr",
     "output_type": "stream",
     "text": [
      "Using TensorFlow backend.\n"
     ]
    }
   ],
   "source": [
    "import utils \n",
    "\n",
    "from utils import *"
   ]
  },
  {
   "cell_type": "code",
   "execution_count": 2,
   "metadata": {},
   "outputs": [],
   "source": [
    "plt.rcParams['figure.figsize'] = 10, 10\n",
    "%matplotlib inline\n"
   ]
  },
  {
   "cell_type": "markdown",
   "metadata": {},
   "source": [
    "### Load Data"
   ]
  },
  {
   "cell_type": "code",
   "execution_count": 3,
   "metadata": {
    "_cell_guid": "9d5839b6-f7fb-426d-b05f-cf2dba9313a8",
    "_uuid": "d375d4f754ad7fb77db2142c7c075b4ad4168390"
   },
   "outputs": [],
   "source": [
    "train = pd.read_json(\"data/input/train.json\")\n",
    "target_train=train['is_iceberg']\n",
    "test = pd.read_json(\"data/input/test.json\")\n"
   ]
  },
  {
   "cell_type": "code",
   "execution_count": 4,
   "metadata": {},
   "outputs": [],
   "source": [
    "test['inc_angle']=pd.to_numeric(test['inc_angle'], errors='coerce')\n",
    "train['inc_angle']=pd.to_numeric(train['inc_angle'], errors='coerce')#We have only 133 NAs.\n",
    "train['inc_angle']=train['inc_angle'].fillna(method='pad')\n",
    "X_angle=train['inc_angle']\n",
    "X_test_angle=test['inc_angle']"
   ]
  },
  {
   "cell_type": "code",
   "execution_count": 5,
   "metadata": {},
   "outputs": [],
   "source": [
    "# sample_weights = {0:}"
   ]
  },
  {
   "cell_type": "code",
   "execution_count": 6,
   "metadata": {},
   "outputs": [
    {
     "data": {
      "text/plain": [
       "(8424, 4)"
      ]
     },
     "execution_count": 6,
     "metadata": {},
     "output_type": "execute_result"
    }
   ],
   "source": [
    "test.shape"
   ]
  },
  {
   "cell_type": "code",
   "execution_count": 7,
   "metadata": {},
   "outputs": [
    {
     "data": {
      "text/plain": [
       "1053.0"
      ]
     },
     "execution_count": 7,
     "metadata": {},
     "output_type": "execute_result"
    }
   ],
   "source": [
    "test.shape[0]/8."
   ]
  },
  {
   "cell_type": "markdown",
   "metadata": {},
   "source": [
    "### Preprocess"
   ]
  },
  {
   "cell_type": "code",
   "execution_count": 7,
   "metadata": {},
   "outputs": [],
   "source": [
    "def remove_ocean(arr):\n",
    "    arr += 46.#abs(np.min(arr))\n",
    "    pct = np.percentile(arr,95)\n",
    "    arr[arr<pct] = 0\n",
    "    return arr"
   ]
  },
  {
   "cell_type": "code",
   "execution_count": 14,
   "metadata": {},
   "outputs": [],
   "source": [
    "\n",
    "\n",
    "#Generate the training data\n",
    "X_band_1=np.array([remove_ocean(np.array(band).astype(np.float32).reshape(75, 75)) for band in train[\"band_1\"]])\n",
    "X_band_2=np.array([remove_ocean(np.array(band).astype(np.float32).reshape(75, 75)) for band in train[\"band_2\"]])\n",
    "X_band_3=(X_band_1+X_band_2)/2\n",
    "#X_band_3=np.array([np.full((75, 75), angel).astype(np.float32) for angel in train[\"inc_angle\"]])\n",
    "X_train = np.concatenate([X_band_1[:, :, :, np.newaxis]\n",
    "                          , X_band_2[:, :, :, np.newaxis]\n",
    "                         , X_band_3[:, :, :, np.newaxis]], axis=-1)\n",
    "\n",
    "\n",
    "\n",
    "X_band_test_1=np.array([remove_ocean(np.array(band).astype(np.float32).reshape(75, 75)) for band in test[\"band_1\"]])\n",
    "X_band_test_2=np.array([remove_ocean(np.array(band).astype(np.float32).reshape(75, 75)) for band in test[\"band_2\"]])\n",
    "X_band_test_3=(X_band_test_1+X_band_test_2)/2\n",
    "#X_band_test_3=np.array([np.full((75, 75), angel).astype(np.float32) for angel in test[\"inc_angle\"]])\n",
    "X_test = np.concatenate([X_band_test_1[:, :, :, np.newaxis]\n",
    "                          , X_band_test_2[:, :, :, np.newaxis]\n",
    "                         , X_band_test_3[:, :, :, np.newaxis]], axis=-1)"
   ]
  },
  {
   "cell_type": "code",
   "execution_count": 16,
   "metadata": {},
   "outputs": [
    {
     "data": {
      "image/png": "[encoded data removed]",
      "text/plain": [
       "<matplotlib.figure.Figure at 0x7f3079f7f150>"
      ]
     },
     "metadata": {},
     "output_type": "display_data"
    }
   ],
   "source": [
    "plt.hist(X_band_1[10].ravel(),100,label=\"band1\")\n",
    "plt.hist(X_band_2[10].ravel(),100,label=\"band2\")\n",
    "plt.hist(X_band_3[10].ravel(),100,label=\"band3\")\n",
    "\n",
    "plt.legend()\n",
    "plt.show()"
   ]
  },
  {
   "cell_type": "markdown",
   "metadata": {},
   "source": [
    "### Train Model "
   ]
  },
  {
   "cell_type": "code",
   "execution_count": 17,
   "metadata": {},
   "outputs": [],
   "source": [
    "\n",
    "\n",
    "batch_size=64\n",
    "# Define the image transformations here\n",
    "gen = ImageDataGenerator(horizontal_flip = True,\n",
    "                         vertical_flip = True,\n",
    "                         width_shift_range = 0.,\n",
    "                         height_shift_range = 0.,\n",
    "                         channel_shift_range=0,\n",
    "                         zoom_range = 0.2,\n",
    "                         rotation_range = 10)"
   ]
  },
  {
   "cell_type": "code",
   "execution_count": 18,
   "metadata": {},
   "outputs": [],
   "source": [
    "\n",
    "# Here is the function that merges our two generators\n",
    "# We use the exact same generator with the same random seed for both the y and angle arrays\n",
    "def gen_flow_for_two_inputs(X1, X2, y):\n",
    "    genX1 = gen.flow(X1,y,  batch_size=batch_size,seed=55)\n",
    "    genX2 = gen.flow(X1,X2, batch_size=batch_size,seed=55)\n",
    "    while True:\n",
    "            X1i = genX1.next()\n",
    "            X2i = genX2.next()\n",
    "            #Assert arrays are equal - this was for peace of mind, but slows down training\n",
    "            #np.testing.assert_array_equal(X1i[0],X2i[0])\n",
    "            yield [X1i[0], X2i[1]], X1i[1]\n",
    "\n",
    "# Finally create generator\n",
    "def get_callbacks(filepath, patience=5):\n",
    "    es = EarlyStopping('val_loss', patience=5, mode=\"min\")\n",
    "    msave = ModelCheckpoint(filepath, save_best_only=True)\n",
    "#     lrplateu = ReduceLROnPlateau(monitor='val_loss',  patience=2, verbose=1, factor=0.5, min_lr=1e-6)\n",
    "\n",
    "    return [es, msave]\n"
   ]
  },
  {
   "cell_type": "code",
   "execution_count": 19,
   "metadata": {},
   "outputs": [],
   "source": [
    "def getModel():\n",
    "    input_2 = Input(shape=[1], name=\"angle\")\n",
    "    angle_layer = Dense(1, )(input_2)\n",
    "    base_model = VGG16(weights='imagenet', include_top=False, \n",
    "                 input_shape=X_train.shape[1:], classes=1)\n",
    "    x = base_model.get_layer('block5_pool').output\n",
    "    \n",
    "\n",
    "    x = GlobalMaxPooling2D()(x) #\n",
    "    merge_one = concatenate([x, angle_layer])\n",
    "    merge_one = Dense(512, activation='relu', name='fc2')(merge_one)\n",
    "    merge_one = Dropout(0.3)(merge_one)\n",
    "    merge_one = Dense(512, activation='relu', name='fc3')(merge_one)\n",
    "    merge_one = Dropout(0.3)(merge_one)\n",
    "    \n",
    "    predictions = Dense(1, activation='sigmoid')(merge_one)\n",
    "    \n",
    "    model = Model(input=[base_model.input, input_2], output=predictions)\n",
    "    \n",
    "    sgd = SGD(lr=1e-3, decay=1e-6, momentum=0.9, nesterov=True)\n",
    "    model.compile(loss='binary_crossentropy',\n",
    "                  optimizer=sgd,\n",
    "                  metrics=['accuracy'])\n",
    "    return model\n"
   ]
  },
  {
   "cell_type": "code",
   "execution_count": 20,
   "metadata": {
    "_cell_guid": "067f3dd7-3dcf-4b71-857d-e00b4afbd06e",
    "_uuid": "af8be6ce23dba815bbde23fd7e196eb54ae7c4e1"
   },
   "outputs": [],
   "source": [
    "\n",
    "\n",
    "#Using K-fold Cross Validation with Data Augmentation.\n",
    "def trainKfold(X_train, X_angle, X_test):\n",
    "    K=3\n",
    "    folds = list(StratifiedKFold(n_splits=K, shuffle=True, random_state=17).split(X_train, target_train))\n",
    "    y_test_pred_log = 0\n",
    "    y_train_pred_log=0\n",
    "    y_valid_pred_log = 0.0*target_train\n",
    "    \n",
    "    \n",
    "    for j, (train_idx, test_idx) in enumerate(folds):\n",
    "        print('\\n===================FOLD=',j+1)\n",
    "        X_train_cv = X_train[train_idx]\n",
    "        y_train_cv = target_train[train_idx]\n",
    "        X_holdout = X_train[test_idx]\n",
    "        Y_holdout= target_train[test_idx]\n",
    "        \n",
    "        #Angle\n",
    "        X_angle_cv=X_angle[train_idx]\n",
    "        X_angle_hold=X_angle[test_idx]\n",
    "\n",
    "        #define file path and get callbacks\n",
    "        file_path = \"weights/{}_{}.hdf5\".format(exp_name,j+1)\n",
    "        callbacks = get_callbacks(filepath=file_path, patience=5)\n",
    "        gen_flow = gen_flow_for_two_inputs(X_train_cv, X_angle_cv, y_train_cv)\n",
    "        \n",
    "        model= getModel()\n",
    "        model.fit_generator(\n",
    "                gen_flow,\n",
    "                steps_per_epoch=24,\n",
    "                epochs=100,\n",
    "                shuffle=True,\n",
    "                verbose=1,\n",
    "                validation_data=([X_holdout,X_angle_hold], Y_holdout),\n",
    "                callbacks=callbacks)\n",
    "\n",
    "        #Getting the Best Model\n",
    "        model.load_weights(filepath=file_path)\n",
    "        #Getting Training Score\n",
    "        score = model.evaluate([X_train_cv,X_angle_cv], y_train_cv, verbose=0)\n",
    "        print('Train loss:', score[0])\n",
    "        print('Train accuracy:', score[1])\n",
    "        \n",
    "        #Getting Test Score\n",
    "        score = model.evaluate([X_holdout,X_angle_hold], Y_holdout, verbose=0)\n",
    "        print('Test loss:', score[0])\n",
    "        print('Test accuracy:', score[1])\n",
    "\n",
    "        #Getting validation Score.\n",
    "        pred_valid=model.predict([X_holdout,X_angle_hold])\n",
    "        y_valid_pred_log[test_idx] = pred_valid.reshape(pred_valid.shape[0])\n",
    "\n",
    "        #Getting Test Scores\n",
    "\n",
    "        temp_test=model.predict([X_test, X_test_angle])\n",
    "        y_test_pred_log+=temp_test.reshape(temp_test.shape[0])\n",
    "        \n",
    "\n",
    "\n",
    "        #Getting Train Scores\n",
    "        temp_train=model.predict([X_train, X_angle])\n",
    "        y_train_pred_log+=temp_train.reshape(temp_train.shape[0])\n",
    "\n",
    "    y_test_pred_log=y_test_pred_log/K\n",
    "    y_train_pred_log=y_train_pred_log/K\n",
    "\n",
    "    \n",
    "    train_log_loss = log_loss(target_train, y_train_pred_log) \n",
    "    valid_log_loss = log_loss(target_train, y_valid_pred_log)\n",
    "    \n",
    "    print('\\n Train Log Loss Validation= ',train_log_loss)\n",
    "    print(' Valid Log Loss Validation= ',valid_log_loss)\n",
    "    \n",
    "    \n",
    "    return y_train_pred_log, y_valid_pred_log, y_test_pred_log, train_log_loss, valid_log_loss\n",
    "\n",
    "\n",
    "\n"
   ]
  },
  {
   "cell_type": "code",
   "execution_count": 21,
   "metadata": {
    "_cell_guid": "ea82458f-f41c-4abb-87aa-0dfc7a447969",
    "_uuid": "d462c689ee61d4c1cdcee42c7ded6c7c31c9cddc",
    "scrolled": true
   },
   "outputs": [
    {
     "name": "stdout",
     "output_type": "stream",
     "text": [
      "('\\n===================FOLD=', 1)\n"
     ]
    },
    {
     "name": "stderr",
     "output_type": "stream",
     "text": [
      "/home/ubuntu/anaconda2/lib/python2.7/site-packages/ipykernel/__main__.py:18: UserWarning: Update your `Model` call to the Keras 2 API: `Model(outputs=Tensor(\"de..., inputs=[<tf.Tenso...)`\n"
     ]
    },
    {
     "name": "stdout",
     "output_type": "stream",
     "text": [
      "Epoch 1/100\n",
      "24/24 [==============================] - 14s - loss: 0.6325 - acc: 0.6537 - val_loss: 0.4463 - val_acc: 0.7813\n",
      "Epoch 2/100\n",
      "24/24 [==============================] - 13s - loss: 0.4464 - acc: 0.7622 - val_loss: 0.3584 - val_acc: 0.8430\n",
      "Epoch 3/100\n",
      "24/24 [==============================] - 13s - loss: 0.3998 - acc: 0.8106 - val_loss: 0.3168 - val_acc: 0.8692\n",
      "Epoch 4/100\n",
      "24/24 [==============================] - 13s - loss: 0.3447 - acc: 0.8399 - val_loss: 0.2968 - val_acc: 0.8692\n",
      "Epoch 5/100\n",
      "24/24 [==============================] - 12s - loss: 0.2868 - acc: 0.8643 - val_loss: 0.3210 - val_acc: 0.8654\n",
      "Epoch 6/100\n",
      "24/24 [==============================] - 13s - loss: 0.3031 - acc: 0.8723 - val_loss: 0.2875 - val_acc: 0.8692\n",
      "Epoch 7/100\n",
      "24/24 [==============================] - 13s - loss: 0.2799 - acc: 0.8756 - val_loss: 0.2581 - val_acc: 0.8897\n",
      "Epoch 8/100\n",
      "24/24 [==============================] - 13s - loss: 0.2865 - acc: 0.8803 - val_loss: 0.2532 - val_acc: 0.9009\n",
      "Epoch 9/100\n",
      "24/24 [==============================] - 13s - loss: 0.2583 - acc: 0.8908 - val_loss: 0.2292 - val_acc: 0.9084\n",
      "Epoch 10/100\n",
      "24/24 [==============================] - 13s - loss: 0.2491 - acc: 0.8875 - val_loss: 0.2675 - val_acc: 0.8879\n",
      "Epoch 11/100\n",
      "24/24 [==============================] - 13s - loss: 0.2390 - acc: 0.8993 - val_loss: 0.2518 - val_acc: 0.8953\n",
      "Epoch 12/100\n",
      "24/24 [==============================] - 13s - loss: 0.2481 - acc: 0.8973 - val_loss: 0.2653 - val_acc: 0.8916\n",
      "Epoch 13/100\n",
      "24/24 [==============================] - 13s - loss: 0.2228 - acc: 0.9063 - val_loss: 0.2245 - val_acc: 0.9047\n",
      "Epoch 14/100\n",
      "24/24 [==============================] - 13s - loss: 0.2363 - acc: 0.8998 - val_loss: 0.2228 - val_acc: 0.9084\n",
      "Epoch 15/100\n",
      "24/24 [==============================] - 13s - loss: 0.2472 - acc: 0.8991 - val_loss: 0.2510 - val_acc: 0.8897\n",
      "Epoch 16/100\n",
      "24/24 [==============================] - 13s - loss: 0.2089 - acc: 0.9104 - val_loss: 0.2957 - val_acc: 0.8841\n",
      "Epoch 17/100\n",
      "24/24 [==============================] - 13s - loss: 0.2162 - acc: 0.9151 - val_loss: 0.2448 - val_acc: 0.9065\n",
      "Epoch 18/100\n",
      "24/24 [==============================] - 13s - loss: 0.2042 - acc: 0.9089 - val_loss: 0.2590 - val_acc: 0.8879\n",
      "Epoch 19/100\n",
      "24/24 [==============================] - 13s - loss: 0.1936 - acc: 0.9234 - val_loss: 0.2521 - val_acc: 0.9084\n",
      "Epoch 20/100\n",
      "24/24 [==============================] - 13s - loss: 0.1763 - acc: 0.9257 - val_loss: 0.2440 - val_acc: 0.9121\n",
      "('Train loss:', 0.16192441188335641)\n",
      "('Train accuracy:', 0.94667913938260051)\n",
      "('Test loss:', 0.22280080441002534)\n",
      "('Test accuracy:', 0.9084112167358398)\n",
      "('\\n===================FOLD=', 2)\n",
      "Epoch 1/100\n",
      "24/24 [==============================] - 14s - loss: 0.6531 - acc: 0.6167 - val_loss: 0.4103 - val_acc: 0.8000\n",
      "Epoch 2/100\n",
      "24/24 [==============================] - 13s - loss: 0.4398 - acc: 0.7728 - val_loss: 0.4408 - val_acc: 0.7832\n",
      "Epoch 3/100\n",
      "24/24 [==============================] - 13s - loss: 0.4019 - acc: 0.7971 - val_loss: 0.3516 - val_acc: 0.8280\n",
      "Epoch 4/100\n",
      "24/24 [==============================] - 13s - loss: 0.3676 - acc: 0.8418 - val_loss: 0.3389 - val_acc: 0.8467\n",
      "Epoch 5/100\n",
      "24/24 [==============================] - 13s - loss: 0.3300 - acc: 0.8392 - val_loss: 0.2997 - val_acc: 0.8617\n",
      "Epoch 6/100\n",
      "24/24 [==============================] - 13s - loss: 0.2644 - acc: 0.8868 - val_loss: 0.3165 - val_acc: 0.8486\n",
      "Epoch 7/100\n",
      "24/24 [==============================] - 13s - loss: 0.2873 - acc: 0.8783 - val_loss: 0.2845 - val_acc: 0.8673\n",
      "Epoch 8/100\n",
      "24/24 [==============================] - 13s - loss: 0.2648 - acc: 0.8952 - val_loss: 0.2859 - val_acc: 0.8710\n",
      "Epoch 9/100\n",
      "24/24 [==============================] - 13s - loss: 0.2343 - acc: 0.9063 - val_loss: 0.2842 - val_acc: 0.8822\n",
      "Epoch 10/100\n",
      "24/24 [==============================] - 13s - loss: 0.2166 - acc: 0.9113 - val_loss: 0.2926 - val_acc: 0.8804\n",
      "Epoch 11/100\n",
      "24/24 [==============================] - 13s - loss: 0.2178 - acc: 0.9040 - val_loss: 0.2921 - val_acc: 0.8673\n",
      "Epoch 12/100\n",
      "24/24 [==============================] - 13s - loss: 0.2249 - acc: 0.8998 - val_loss: 0.3083 - val_acc: 0.8673\n",
      "Epoch 13/100\n",
      "24/24 [==============================] - 13s - loss: 0.2225 - acc: 0.9095 - val_loss: 0.2983 - val_acc: 0.8561\n",
      "Epoch 14/100\n",
      "24/24 [==============================] - 13s - loss: 0.2071 - acc: 0.9083 - val_loss: 0.2945 - val_acc: 0.8542\n",
      "Epoch 15/100\n",
      "24/24 [==============================] - 13s - loss: 0.2080 - acc: 0.9137 - val_loss: 0.2641 - val_acc: 0.8972\n",
      "Epoch 16/100\n",
      "24/24 [==============================] - 13s - loss: 0.1972 - acc: 0.9231 - val_loss: 0.3345 - val_acc: 0.8449\n",
      "Epoch 17/100\n",
      "24/24 [==============================] - 13s - loss: 0.1824 - acc: 0.9292 - val_loss: 0.3056 - val_acc: 0.8617\n",
      "Epoch 18/100\n",
      "24/24 [==============================] - 13s - loss: 0.1897 - acc: 0.9240 - val_loss: 0.2746 - val_acc: 0.8822\n",
      "Epoch 19/100\n",
      "24/24 [==============================] - 13s - loss: 0.1583 - acc: 0.9272 - val_loss: 0.2928 - val_acc: 0.8897\n",
      "Epoch 20/100\n",
      "24/24 [==============================] - 13s - loss: 0.1653 - acc: 0.9330 - val_loss: 0.3333 - val_acc: 0.8785\n",
      "Epoch 21/100\n",
      "24/24 [==============================] - 13s - loss: 0.1653 - acc: 0.9308 - val_loss: 0.3772 - val_acc: 0.8748\n",
      "('Train loss:', 0.14943859140041055)\n",
      "('Train accuracy:', 0.9382600569635825)\n",
      "('Test loss:', 0.26405881554166849)\n",
      "('Test accuracy:', 0.89719626346481185)\n",
      "('\\n===================FOLD=', 3)\n",
      "Epoch 1/100\n",
      "24/24 [==============================] - 16s - loss: 0.6491 - acc: 0.6347 - val_loss: 0.3861 - val_acc: 0.8184\n",
      "Epoch 2/100\n",
      "24/24 [==============================] - 13s - loss: 0.4798 - acc: 0.7615 - val_loss: 0.3235 - val_acc: 0.8614\n",
      "Epoch 3/100\n",
      "24/24 [==============================] - 13s - loss: 0.4082 - acc: 0.8088 - val_loss: 0.3077 - val_acc: 0.8670\n",
      "Epoch 4/100\n",
      "24/24 [==============================] - 13s - loss: 0.3670 - acc: 0.8278 - val_loss: 0.2814 - val_acc: 0.8970\n",
      "Epoch 5/100\n",
      "24/24 [==============================] - 13s - loss: 0.3183 - acc: 0.8607 - val_loss: 0.3113 - val_acc: 0.8764\n",
      "Epoch 6/100\n",
      "24/24 [==============================] - 13s - loss: 0.2746 - acc: 0.8731 - val_loss: 0.2654 - val_acc: 0.8876\n",
      "Epoch 7/100\n",
      "24/24 [==============================] - 13s - loss: 0.2992 - acc: 0.8639 - val_loss: 0.2920 - val_acc: 0.8764\n",
      "Epoch 8/100\n",
      "24/24 [==============================] - 13s - loss: 0.2826 - acc: 0.8779 - val_loss: 0.2900 - val_acc: 0.8783\n",
      "Epoch 9/100\n",
      "24/24 [==============================] - 13s - loss: 0.2519 - acc: 0.8778 - val_loss: 0.2468 - val_acc: 0.9064\n",
      "Epoch 10/100\n",
      "24/24 [==============================] - 13s - loss: 0.2592 - acc: 0.8832 - val_loss: 0.3011 - val_acc: 0.8839\n",
      "Epoch 11/100\n",
      "24/24 [==============================] - 13s - loss: 0.2430 - acc: 0.8968 - val_loss: 0.2822 - val_acc: 0.8820\n",
      "Epoch 12/100\n",
      "24/24 [==============================] - 13s - loss: 0.2271 - acc: 0.9082 - val_loss: 0.2623 - val_acc: 0.8933\n",
      "Epoch 13/100\n",
      "24/24 [==============================] - 13s - loss: 0.2082 - acc: 0.9175 - val_loss: 0.3267 - val_acc: 0.8858\n",
      "Epoch 14/100\n",
      "24/24 [==============================] - 13s - loss: 0.2368 - acc: 0.8990 - val_loss: 0.2551 - val_acc: 0.9007\n",
      "Epoch 15/100\n",
      "24/24 [==============================] - 13s - loss: 0.2248 - acc: 0.9026 - val_loss: 0.2547 - val_acc: 0.8914\n",
      "('Train loss:', 0.17946818047594801)\n",
      "('Train accuracy:', 0.92242990698769833)\n",
      "('Test loss:', 0.24675467593616315)\n",
      "('Test accuracy:', 0.90636704119850187)\n",
      "('\\n Train Log Loss Validation= ', 0.17047422827412262)\n",
      "(' Valid Log Loss Validation= ', 0.24453671352845849)\n"
     ]
    }
   ],
   "source": [
    "exp_name = \"_3f_nobg1\"\n",
    "train_preds , val_preds, test_preds, train_log_loss,valid_log_loss = trainKfold(X_train, X_angle, X_test)"
   ]
  },
  {
   "cell_type": "code",
   "execution_count": 22,
   "metadata": {},
   "outputs": [],
   "source": [
    "pickle.dump(file=open(\"cache/{}_tmp_results.dmp\".format(exp_name),\"wb\"), obj=[train_preds , val_preds, test_preds, train_log_loss,valid_log_loss])\n"
   ]
  },
  {
   "cell_type": "code",
   "execution_count": 62,
   "metadata": {},
   "outputs": [],
   "source": [
    "train_preds , val_preds, test_preds, train_log_loss, valid_log_loss = pickle.load(file=open(\"tmp_results.dmp\",\"rb\"))\n",
    "\n",
    "\n",
    "    "
   ]
  },
  {
   "cell_type": "markdown",
   "metadata": {},
   "source": [
    "### TTA\n"
   ]
  },
  {
   "cell_type": "code",
   "execution_count": null,
   "metadata": {},
   "outputs": [],
   "source": [
    "def make_TTA_preds(exp_name):\n",
    "\n",
    "    K=3\n",
    "    y_test_pred_log = 0\n",
    "    \n",
    "    \n",
    "\n",
    "    def gen_flow_for_two_inputs_test(test_gen, X1, X2):\n",
    "        genX2 = test_gen.flow(X1,X2, batch_size=8,shuffle=False)\n",
    "        while True:\n",
    "                X2i = genX2.next()\n",
    "                yield [X2i[0], X2i[1]]\n",
    "\n",
    "    partials = []\n",
    "    \n",
    "    \n",
    "    for j in range(K):\n",
    "        print('\\n===================FOLD=',j+1)\n",
    "        \n",
    "        model= getModel()\n",
    "\n",
    "        #Getting the Best Model\n",
    "        model.load_weights(\"weights/{}_{}.hdf5\".format(exp_name,j+1))\n",
    "        #Getting Training Score\n",
    "\n",
    "        \n",
    "        test_gen = ImageDataGenerator(horizontal_flip = True,\n",
    "                                      vertical_flip = True, \n",
    "                                      width_shift_range = 0.,  \n",
    "                                      height_shift_range = 0.,      \n",
    "                                      channel_shift_range=0,        \n",
    "                                      zoom_range = 0.2,         \n",
    "                                      rotation_range = 10)   \n",
    "\n",
    "\n",
    "        preds = np.zeros((test.shape[0],1)).astype(np.float32) \n",
    "\n",
    "        num_aug = 5\n",
    "        for i in range(num_aug):\n",
    "            gen_flow_test = gen_flow_for_two_inputs_test(test_gen, X_test, X_test_angle)\n",
    "            preds += model.predict_generator(gen_flow_test,steps=test.shape[0]/8, verbose=1).reshape(-1,1)\n",
    "\n",
    "\n",
    "        partials.append(preds/num_aug)    \n",
    "        temp_test=preds/num_aug\n",
    "        y_test_pred_log+=temp_test.reshape(temp_test.shape[0])                           \n",
    "                           \n",
    "\n",
    "    y_test_pred_log=y_test_pred_log/K\n",
    "\n",
    "\n",
    "    \n",
    "    return y_test_pred_log, partials\n",
    "\n",
    "\n",
    "    \n",
    "tta_preds_3fold_baseline,partials = make_TTA_preds(\"_3fold_baseline\")    \n"
   ]
  },
  {
   "cell_type": "markdown",
   "metadata": {},
   "source": [
    "### Submission"
   ]
  },
  {
   "cell_type": "code",
   "execution_count": 24,
   "metadata": {},
   "outputs": [],
   "source": [
    "\n",
    "def update_results_h5(phase, exp_name, train_id, test_id, train_preds, val_preds,test_preds, train_log_loss,valid_log_loss, LB_score=0.0):\n",
    "\t\t\n",
    "\t\ttrain_preds  = pd.DataFrame(data={\"is_iceberg\":train_preds})\n",
    "\t\ttrain_preds[\"id\"]=train_id.astype(str)\n",
    "\t\ttrain_preds.set_index(\"id\",inplace=True)\n",
    "\n",
    "\t\t\n",
    "\t\t\n",
    "\t\tval_preds  = pd.DataFrame(data={\"id\":train['id'],\"is_iceberg\":val_preds})\n",
    "\t\tval_preds[\"id\"]=train_id.astype(str)\n",
    "\t\tval_preds.set_index(\"id\",inplace=True)\n",
    "\t\t\n",
    "\t\t\n",
    "\t\t\n",
    "\t\tsubmission = pd.DataFrame()\n",
    "\t\tsubmission['id']=test_id\n",
    "\t\tsubmission['is_iceberg']=test_preds\n",
    "\t\tsubmission.to_csv('subm/{}.csv'.format(exp_name), index=False)\n",
    "\n",
    "\t\tsubmission['id']=test['id'].astype(str)\n",
    "\t\tsubmission.set_index(\"id\",inplace=True)\n",
    "\n",
    "\n",
    "\t\t\n",
    "\t\ttrain_preds.to_hdf('data/results.h5',\"/{}/train/{}\".format(phase,exp_name))\n",
    "\t\tval_preds.to_hdf('data/results.h5',\"/{}/valid/{}\".format(phase,exp_name))\n",
    "\t\tsubmission.to_hdf('data/results.h5',\"/{}/test/{}\".format(phase,exp_name))\n",
    "\n",
    "\n",
    "\n",
    "\t\t\n",
    "\n",
    "\t\tstore = pd.HDFStore('data/results.h5')\n",
    "\n",
    "\t\tstore.append(\"/summary\",pd.DataFrame(data={\"phase\":[phase],\n",
    "\t\t\t\t\t\t\t\t\t\t\t\t\t\t\t\t\t\t\t\t\t\t\t \"exp\":[exp_name],\n",
    "\t\t\t\t\t\t\t\t\t\t\t\t\t\t\t\t\t\t\t\t\t\t\t \"train_log_loss\":[train_log_loss],\n",
    "\t\t\t\t\t\t\t\t\t\t\t\t\t\t\t\t\t\t\t\t\t\t\t \"val_log_loss\":[valid_log_loss], \n",
    "\t\t\t\t\t\t\t\t\t\t\t\t\t\t\t\t\t\t\t\t\t\t\t \"LB\":[LB_score] }) )  \n",
    "\n",
    "\t\tstore.close()"
   ]
  },
  {
   "cell_type": "code",
   "execution_count": 26,
   "metadata": {},
   "outputs": [],
   "source": [
    "update_results_h5(\"ph1\", exp_name, train[\"id\"], test[\"id\"], \n",
    "                  train_preds, val_preds,test_preds, train_log_loss,valid_log_loss )"
   ]
  },
  {
   "cell_type": "code",
   "execution_count": 63,
   "metadata": {},
   "outputs": [],
   "source": [
    "train_preds  = pd.DataFrame(data={\"is_iceberg\":train_preds})\n",
    "train_preds[\"id\"]=train['id'].astype(str)\n",
    "train_preds.set_index(\"id\",inplace=True)\n",
    "\n",
    "\n"
   ]
  },
  {
   "cell_type": "code",
   "execution_count": 45,
   "metadata": {},
   "outputs": [],
   "source": [
    "### Submissionval_preds  = pd.DataFrame(data={\"id\":train['id'],\"is_iceberg\":val_preds})\n",
    "val_preds[\"id\"]=train['id'].astype(str)\n",
    "val_preds.set_index(\"id\",inplace=True)"
   ]
  },
  {
   "cell_type": "markdown",
   "metadata": {},
   "source": []
  },
  {
   "cell_type": "code",
   "execution_count": 25,
   "metadata": {
    "_cell_guid": "012fc91e-17ff-4163-a32d-79007feba4fc",
    "_uuid": "2e7f1db4b36211939fb9650e3b721ac8db09dda2"
   },
   "outputs": [],
   "source": [
    "#Submission for each day.\n",
    "submission = pd.DataFrame()\n",
    "submission['id']=test['id'].astype(str)\n",
    "submission['is_iceberg']= tta_preds_3fold_baseline\n",
    "submission.to_csv('subm/{}.csv'.format(\"_3f_tta\"), index=False)\n",
    "\n",
    "submission.set_index(\"id\",inplace=True)"
   ]
  },
  {
   "cell_type": "code",
   "execution_count": 17,
   "metadata": {},
   "outputs": [],
   "source": [
    "store = pd.HDFStore('data/results.h5')\n"
   ]
  },
  {
   "cell_type": "code",
   "execution_count": 45,
   "metadata": {},
   "outputs": [
    {
     "data": {
      "text/plain": [
       "array([[ 1.        ,  0.80484443],\n",
       "       [ 0.80484443,  1.        ]])"
      ]
     },
     "execution_count": 45,
     "metadata": {},
     "output_type": "execute_result"
    }
   ],
   "source": [
    "np.corrcoef(store.select(\"/ph1/valid/_5fold_baseline\").values.ravel(), store.select(\"/ph1/train/_5fold_baseline\").values.ravel())"
   ]
  },
  {
   "cell_type": "code",
   "execution_count": 18,
   "metadata": {},
   "outputs": [
    {
     "data": {
      "text/plain": [
       "['/summary',\n",
       " '/ph1/test/_3fold_baseline',\n",
       " '/ph1/test/_5fold_baseline',\n",
       " '/ph1/test/_5fold_fcn',\n",
       " '/ph1/train/_3fold_baseline',\n",
       " '/ph1/train/_5fold_baseline',\n",
       " '/ph1/train/_5fold_fcn',\n",
       " '/ph1/valid/_3fold_baseline',\n",
       " '/ph1/valid/_5fold_baseline',\n",
       " '/ph1/valid/_5fold_fcn']"
      ]
     },
     "execution_count": 18,
     "metadata": {},
     "output_type": "execute_result"
    }
   ],
   "source": [
    "store.keys()"
   ]
  },
  {
   "cell_type": "code",
   "execution_count": 82,
   "metadata": {},
   "outputs": [],
   "source": [
    "benchmark3cv = pd.read_csv(\"subm/sub_benchmark.csv\")"
   ]
  },
  {
   "cell_type": "code",
   "execution_count": 84,
   "metadata": {},
   "outputs": [],
   "source": [
    "benchmark3cv.set_index('id',inplace=True)"
   ]
  },
  {
   "cell_type": "code",
   "execution_count": 92,
   "metadata": {},
   "outputs": [
    {
     "data": {
      "text/html": [
       "<div>\n",
       "<style scoped>\n",
       "    .dataframe tbody tr th:only-of-type {\n",
       "        vertical-align: middle;\n",
       "    }\n",
       "\n",
       "    .dataframe tbody tr th {\n",
       "        vertical-align: top;\n",
       "    }\n",
       "\n",
       "    .dataframe thead th {\n",
       "        text-align: right;\n",
       "    }\n",
       "</style>\n",
       "<table border=\"1\" class=\"dataframe\">\n",
       "  <thead>\n",
       "    <tr style=\"text-align: right;\">\n",
       "      <th></th>\n",
       "      <th>is_iceberg_3cv</th>\n",
       "      <th>is_iceberg</th>\n",
       "    </tr>\n",
       "  </thead>\n",
       "  <tbody>\n",
       "    <tr>\n",
       "      <th>is_iceberg_3cv</th>\n",
       "      <td>1.000000</td>\n",
       "      <td>0.975071</td>\n",
       "    </tr>\n",
       "    <tr>\n",
       "      <th>is_iceberg</th>\n",
       "      <td>0.975071</td>\n",
       "      <td>1.000000</td>\n",
       "    </tr>\n",
       "  </tbody>\n",
       "</table>\n",
       "</div>"
      ],
      "text/plain": [
       "                is_iceberg_3cv  is_iceberg\n",
       "is_iceberg_3cv        1.000000    0.975071\n",
       "is_iceberg            0.975071    1.000000"
      ]
     },
     "execution_count": 92,
     "metadata": {},
     "output_type": "execute_result"
    }
   ],
   "source": [
    "benchmark3cv.join(store.get(\"/ph1/test/_5fold_baseline\"),lsuffix=\"_3cv\").corr()"
   ]
  }
 ],
 "metadata": {
  "kernelspec": {
   "display_name": "Python [conda root]",
   "language": "python",
   "name": "conda-root-py"
  },
  "language_info": {
   "codemirror_mode": {
    "name": "ipython",
    "version": 2
   },
   "file_extension": ".py",
   "mimetype": "text/x-python",
   "name": "python",
   "nbconvert_exporter": "python",
   "pygments_lexer": "ipython2",
   "version": "2.7.14"
  }
 },
 "nbformat": 4,
 "nbformat_minor": 1
}
