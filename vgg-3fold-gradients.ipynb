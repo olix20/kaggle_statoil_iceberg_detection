{
 "cells": [
  {
   "cell_type": "code",
   "execution_count": 1,
   "metadata": {
    "_cell_guid": "7922e149-72fa-48cd-a545-b70bddb40d28",
    "_uuid": "9341f2516086ca38bca96e06a9dbfc39f813a95a"
   },
   "outputs": [
    {
     "name": "stderr",
     "output_type": "stream",
     "text": [
      "Using TensorFlow backend.\n"
     ]
    }
   ],
   "source": [
    "import utils \n",
    "\n",
    "from utils import *"
   ]
  },
  {
   "cell_type": "code",
   "execution_count": 2,
   "metadata": {},
   "outputs": [],
   "source": [
    "plt.rcParams['figure.figsize'] = 10, 10\n",
    "%matplotlib inline\n"
   ]
  },
  {
   "cell_type": "markdown",
   "metadata": {},
   "source": [
    "### Load Data"
   ]
  },
  {
   "cell_type": "code",
   "execution_count": 3,
   "metadata": {
    "_cell_guid": "9d5839b6-f7fb-426d-b05f-cf2dba9313a8",
    "_uuid": "d375d4f754ad7fb77db2142c7c075b4ad4168390"
   },
   "outputs": [],
   "source": [
    "train = pd.read_json(\"data/input/train.json\")\n",
    "target_train=train['is_iceberg']\n",
    "test = pd.read_json(\"data/input/test.json\")\n"
   ]
  },
  {
   "cell_type": "code",
   "execution_count": null,
   "metadata": {},
   "outputs": [],
   "source": [
    "train['inc_angle']=pd.to_numeric(train['inc_angle'], errors='coerce')#We have only 133 NAs.\n",
    "train['inc_angle']=train['inc_angle'].fillna(method='pad')\n",
    "test['inc_angle']=pd.to_numeric(test['inc_angle'], errors='coerce')\n"
   ]
  },
  {
   "cell_type": "code",
   "execution_count": null,
   "metadata": {},
   "outputs": [],
   "source": [
    "X_angle=train['inc_angle']\n",
    "X_test_angle=test['inc_angle']"
   ]
  },
  {
   "cell_type": "code",
   "execution_count": 5,
   "metadata": {},
   "outputs": [],
   "source": [
    "# sample_weights = {0:}"
   ]
  },
  {
   "cell_type": "code",
   "execution_count": 6,
   "metadata": {},
   "outputs": [
    {
     "data": {
      "text/plain": [
       "(8424, 4)"
      ]
     },
     "execution_count": 6,
     "metadata": {},
     "output_type": "execute_result"
    }
   ],
   "source": [
    "test.shape"
   ]
  },
  {
   "cell_type": "code",
   "execution_count": 7,
   "metadata": {},
   "outputs": [
    {
     "data": {
      "text/plain": [
       "1053.0"
      ]
     },
     "execution_count": 7,
     "metadata": {},
     "output_type": "execute_result"
    }
   ],
   "source": [
    "test.shape[0]/8."
   ]
  },
  {
   "cell_type": "markdown",
   "metadata": {},
   "source": [
    "### Preprocess"
   ]
  },
  {
   "cell_type": "code",
   "execution_count": 8,
   "metadata": {},
   "outputs": [],
   "source": [
    "from scipy import signal\n",
    "from tqdm import tqdm_notebook\n",
    "xder = np.array([[-1,0,1],[-2,0,2],[-1,0,1]])\n",
    "yder = np.array([[1,2,1],[0,0,0],[-1,-2,-1]])"
   ]
  },
  {
   "cell_type": "code",
   "execution_count": 61,
   "metadata": {
    "scrolled": true
   },
   "outputs": [],
   "source": [
    "\n",
    "#Generate the training data\n",
    "# X_band_1=np.array([np.array(band).astype(np.float32).reshape(75, 75) for band in train[\"band_1\"]])\n",
    "# X_band_2=np.array([np.array(band).astype(np.float32).reshape(75, 75) for band in train[\"band_2\"]])\n",
    "\n",
    "def get_bands(train):\n",
    "    X_band_1 = []\n",
    "    X_band_2 = []\n",
    "    X_band_3 = [] \n",
    "\n",
    "    for i in tqdm_notebook(range(train.shape[0])):\n",
    "\n",
    "        b1_arrx = signal.convolve2d(np.reshape(np.array(train.loc[i,\"band_1\"]).astype(np.float32),(75,75)),xder,mode='valid')\n",
    "        b1_arry = signal.convolve2d(np.reshape(np.array(train.loc[i,\"band_1\"]).astype(np.float32),(75,75)),yder,mode='valid') # xder > yder\n",
    "    #     print b1_arrx.mean(), b1_arry.mean()\n",
    "\n",
    "        X_band_1.append(np.hypot(b1_arrx,b1_arry))\n",
    "\n",
    "        b2_arrx = signal.convolve2d(np.reshape(np.array(train.loc[i,\"band_2\"]).astype(np.float32),(75,75)),xder,mode='valid')\n",
    "        b2_arry = signal.convolve2d(np.reshape(np.array(train.loc[i,\"band_2\"]).astype(np.float32),(75,75)),yder,mode='valid') # xder > yder\n",
    "        X_band_2.append(np.hypot(b2_arrx,b2_arry))\n",
    "\n",
    "        X_band_3.append((X_band_1[i]+X_band_2[i])/2.)\n",
    "\n",
    "    X_band_1 =  np.array(X_band_1)\n",
    "    X_band_2 =  np.array(X_band_2)\n",
    "    X_band_3 =  np.array(X_band_3)\n",
    "    \n",
    "    #exp: use original band1 and 2 as dims 0 and 1\n",
    "    X_band_1=np.array([np.array(band).astype(np.float32).reshape(75, 75) for band in train[\"band_1\"]])\n",
    "    X_band_2=np.array([np.array(band).astype(np.float32).reshape(75, 75) for band in train[\"band_2\"]])\n",
    "\n",
    "    # #X_band_3=np.array([np.full((75, 75), angel).astype(np.float32) for angel in train[\"inc_angle\"]])\n",
    "#     print X_band_1.shape,X_band_2.shape,X_band_3.shape\n",
    "    X_train = np.concatenate([X_band_1[:, 1:-1,1:-1, np.newaxis]\n",
    "                              , X_band_2[:, 1:-1,1:-1, np.newaxis]\n",
    "                             , X_band_3[:, :, :, np.newaxis]], axis=-1)\n",
    "\n",
    "\n",
    "    return X_train\n",
    "\n",
    "# X_band_test_1=np.array([np.array(band).astype(np.float32).reshape(75, 75) for band in test[\"band_1\"]])\n",
    "# X_band_test_2=np.array([np.array(band).astype(np.float32).reshape(75, 75) for band in test[\"band_2\"]])\n",
    "# X_band_test_3=(X_band_test_1+X_band_test_2)/2\n",
    "# #X_band_test_3=np.array([np.full((75, 75), angel).astype(np.float32) for angel in test[\"inc_angle\"]])\n",
    "# X_test = np.concatenate([X_band_test_1[:, :, :, np.newaxis]\n",
    "#                           , X_band_test_2[:, :, :, np.newaxis]\n",
    "#                          , X_band_test_3[:, :, :, np.newaxis]], axis=-1)"
   ]
  },
  {
   "cell_type": "code",
   "execution_count": 62,
   "metadata": {},
   "outputs": [
    {
     "data": {
      "application/vnd.jupyter.widget-view+json": {
       "model_id": "2bc7632f237c4e6ea5ced0669cb2725a",
       "version_major": 2,
       "version_minor": 0
      },
      "text/plain": [
       "A Jupyter Widget"
      ]
     },
     "metadata": {},
     "output_type": "display_data"
    },
    {
     "name": "stdout",
     "output_type": "stream",
     "text": [
      "\n",
      "CPU times: user 4.1 s, sys: 96 ms, total: 4.2 s\n",
      "Wall time: 4.12 s\n"
     ]
    }
   ],
   "source": [
    "%time X_train = get_bands(train)"
   ]
  },
  {
   "cell_type": "code",
   "execution_count": 70,
   "metadata": {},
   "outputs": [
    {
     "data": {
      "application/vnd.jupyter.widget-view+json": {
       "model_id": "82000a31209e4eb6aaa7369b40f0affb",
       "version_major": 2,
       "version_minor": 0
      },
      "text/plain": [
       "A Jupyter Widget"
      ]
     },
     "metadata": {},
     "output_type": "display_data"
    },
    {
     "name": "stdout",
     "output_type": "stream",
     "text": [
      "\n",
      "CPU times: user 21.6 s, sys: 800 ms, total: 22.4 s\n",
      "Wall time: 22.1 s\n"
     ]
    }
   ],
   "source": [
    "%time X_test = get_bands(test)"
   ]
  },
  {
   "cell_type": "code",
   "execution_count": 25,
   "metadata": {},
   "outputs": [
    {
     "data": {
      "text/plain": [
       "(8424, 73, 73, 3)"
      ]
     },
     "execution_count": 25,
     "metadata": {},
     "output_type": "execute_result"
    }
   ],
   "source": [
    "X_test.shape"
   ]
  },
  {
   "cell_type": "code",
   "execution_count": 69,
   "metadata": {},
   "outputs": [
    {
     "data": {
      "text/plain": [
       "<matplotlib.image.AxesImage at 0x7f12d59eb650>"
      ]
     },
     "execution_count": 69,
     "metadata": {},
     "output_type": "execute_result"
    },
    {
     "data": {
      "image/png": "[encoded data removed]",
      "text/plain": [
       "<matplotlib.figure.Figure at 0x7f12d5a9d890>"
      ]
     },
     "metadata": {},
     "output_type": "display_data"
    }
   ],
   "source": [
    "plt.imshow(X_train[1200,:,:,0],cmap='inferno')"
   ]
  },
  {
   "cell_type": "markdown",
   "metadata": {},
   "source": [
    "### Train Model "
   ]
  },
  {
   "cell_type": "code",
   "execution_count": 71,
   "metadata": {},
   "outputs": [],
   "source": [
    "\n",
    "\n",
    "batch_size=64\n",
    "# Define the image transformations here\n",
    "gen = ImageDataGenerator(horizontal_flip = True,\n",
    "                         vertical_flip = True,\n",
    "                         width_shift_range = 0.,\n",
    "                         height_shift_range = 0.,\n",
    "                         channel_shift_range=0,\n",
    "                         zoom_range = 0.2,\n",
    "                         rotation_range = 10)"
   ]
  },
  {
   "cell_type": "code",
   "execution_count": 72,
   "metadata": {},
   "outputs": [],
   "source": [
    "\n",
    "# Here is the function that merges our two generators\n",
    "# We use the exact same generator with the same random seed for both the y and angle arrays\n",
    "def gen_flow_for_two_inputs(X1, X2, y):\n",
    "    genX1 = gen.flow(X1,y,  batch_size=batch_size,seed=55)\n",
    "    genX2 = gen.flow(X1,X2, batch_size=batch_size,seed=55)\n",
    "    while True:\n",
    "            X1i = genX1.next()\n",
    "            X2i = genX2.next()\n",
    "            #Assert arrays are equal - this was for peace of mind, but slows down training\n",
    "            #np.testing.assert_array_equal(X1i[0],X2i[0])\n",
    "            yield [X1i[0], X2i[1]], X1i[1]\n",
    "\n",
    "# Finally create generator\n",
    "def get_callbacks(filepath, patience=5):\n",
    "    es = EarlyStopping('val_loss', patience=5, mode=\"min\")\n",
    "    msave = ModelCheckpoint(filepath, save_best_only=True)\n",
    "#     lrplateu = ReduceLROnPlateau(monitor='val_loss',  patience=2, verbose=1, factor=0.5, min_lr=1e-6)\n",
    "\n",
    "    return [es, msave]\n"
   ]
  },
  {
   "cell_type": "code",
   "execution_count": 73,
   "metadata": {},
   "outputs": [],
   "source": [
    "def getModel():\n",
    "    input_2 = Input(shape=[1], name=\"angle\")\n",
    "    angle_layer = Dense(1, )(input_2)\n",
    "    base_model = VGG16(weights='imagenet', include_top=False, \n",
    "                 input_shape=X_train.shape[1:], classes=1)\n",
    "    x = base_model.get_layer('block5_pool').output\n",
    "    \n",
    "\n",
    "    x = Flatten()(x) #GlobalMaxPooling2D\n",
    "    merge_one = concatenate([x, angle_layer])\n",
    "    merge_one = Dense(512, activation='relu', name='fc2')(merge_one)\n",
    "    merge_one = Dropout(0.3)(merge_one)\n",
    "    merge_one = Dense(512, activation='relu', name='fc3')(merge_one)\n",
    "    merge_one = Dropout(0.3)(merge_one)\n",
    "    \n",
    "    predictions = Dense(1, activation='sigmoid')(merge_one)\n",
    "    \n",
    "    model = Model(input=[base_model.input, input_2], output=predictions)\n",
    "    \n",
    "    sgd = SGD(lr=1e-3, decay=1e-6, momentum=0.9, nesterov=True)\n",
    "    model.compile(loss='binary_crossentropy',\n",
    "                  optimizer=sgd,\n",
    "                  metrics=['accuracy'])\n",
    "    return model\n"
   ]
  },
  {
   "cell_type": "code",
   "execution_count": 74,
   "metadata": {
    "_cell_guid": "067f3dd7-3dcf-4b71-857d-e00b4afbd06e",
    "_uuid": "af8be6ce23dba815bbde23fd7e196eb54ae7c4e1"
   },
   "outputs": [],
   "source": [
    "\n",
    "\n",
    "#Using K-fold Cross Validation with Data Augmentation.\n",
    "def trainKfold(X_train, X_angle, X_test):\n",
    "    K=3\n",
    "    folds = list(StratifiedKFold(n_splits=K, shuffle=True, random_state=17).split(X_train, target_train))\n",
    "    y_test_pred_log = 0\n",
    "    y_train_pred_log=0\n",
    "    y_valid_pred_log = 0.0*target_train\n",
    "    \n",
    "    \n",
    "    for j, (train_idx, test_idx) in enumerate(folds):\n",
    "        print('\\n===================FOLD=',j+1)\n",
    "        X_train_cv = X_train[train_idx]\n",
    "        y_train_cv = target_train[train_idx]\n",
    "        X_holdout = X_train[test_idx]\n",
    "        Y_holdout= target_train[test_idx]\n",
    "        \n",
    "        #Angle\n",
    "        X_angle_cv=X_angle[train_idx]\n",
    "        X_angle_hold=X_angle[test_idx]\n",
    "\n",
    "        #define file path and get callbacks\n",
    "        file_path = \"weights/{}_{}.hdf5\".format(exp_name,j+1)\n",
    "        callbacks = get_callbacks(filepath=file_path, patience=5)\n",
    "        gen_flow = gen_flow_for_two_inputs(X_train_cv, X_angle_cv, y_train_cv)\n",
    "        \n",
    "        model= getModel()\n",
    "        model.fit_generator(\n",
    "                gen_flow,\n",
    "                steps_per_epoch=24,\n",
    "                epochs=100,\n",
    "                shuffle=True,\n",
    "                verbose=1,\n",
    "                validation_data=([X_holdout,X_angle_hold], Y_holdout),\n",
    "                callbacks=callbacks)\n",
    "\n",
    "        #Getting the Best Model\n",
    "        model.load_weights(filepath=file_path)\n",
    "        #Getting Training Score\n",
    "        score = model.evaluate([X_train_cv,X_angle_cv], y_train_cv, verbose=0)\n",
    "        print('Train loss:', score[0])\n",
    "        print('Train accuracy:', score[1])\n",
    "        \n",
    "        #Getting Test Score\n",
    "        score = model.evaluate([X_holdout,X_angle_hold], Y_holdout, verbose=0)\n",
    "        print('Test loss:', score[0])\n",
    "        print('Test accuracy:', score[1])\n",
    "\n",
    "        #Getting validation Score.\n",
    "        pred_valid=model.predict([X_holdout,X_angle_hold])\n",
    "        y_valid_pred_log[test_idx] = pred_valid.reshape(pred_valid.shape[0])\n",
    "\n",
    "        #Getting Test Scores\n",
    "\n",
    "        temp_test=model.predict([X_test, X_test_angle])\n",
    "        y_test_pred_log+=temp_test.reshape(temp_test.shape[0])\n",
    "        \n",
    "\n",
    "\n",
    "        #Getting Train Scores\n",
    "        temp_train=model.predict([X_train, X_angle])\n",
    "        y_train_pred_log+=temp_train.reshape(temp_train.shape[0])\n",
    "\n",
    "    y_test_pred_log=y_test_pred_log/K\n",
    "    y_train_pred_log=y_train_pred_log/K\n",
    "\n",
    "    \n",
    "    train_log_loss = log_loss(target_train, y_train_pred_log) \n",
    "    valid_log_loss = log_loss(target_train, y_valid_pred_log)\n",
    "    \n",
    "    print('\\n Train Log Loss Validation= ',train_log_loss)\n",
    "    print(' Valid Log Loss Validation= ',valid_log_loss)\n",
    "    \n",
    "    \n",
    "    return y_train_pred_log, y_valid_pred_log, y_test_pred_log, train_log_loss, valid_log_loss\n",
    "\n",
    "\n",
    "\n"
   ]
  },
  {
   "cell_type": "code",
   "execution_count": 75,
   "metadata": {
    "_cell_guid": "ea82458f-f41c-4abb-87aa-0dfc7a447969",
    "_uuid": "d462c689ee61d4c1cdcee42c7ded6c7c31c9cddc",
    "scrolled": true
   },
   "outputs": [
    {
     "name": "stdout",
     "output_type": "stream",
     "text": [
      "('\\n===================FOLD=', 1)\n"
     ]
    },
    {
     "name": "stderr",
     "output_type": "stream",
     "text": [
      "/home/ubuntu/anaconda2/lib/python2.7/site-packages/ipykernel/__main__.py:18: UserWarning: Update your `Model` call to the Keras 2 API: `Model(outputs=Tensor(\"de..., inputs=[<tf.Tenso...)`\n"
     ]
    },
    {
     "name": "stdout",
     "output_type": "stream",
     "text": [
      "Epoch 1/100\n",
      "24/24 [==============================] - 14s - loss: 0.7574 - acc: 0.5529 - val_loss: 0.5338 - val_acc: 0.6710\n",
      "Epoch 2/100\n",
      "24/24 [==============================] - 13s - loss: 0.4932 - acc: 0.7551 - val_loss: 0.4116 - val_acc: 0.8037\n",
      "Epoch 3/100\n",
      "24/24 [==============================] - 13s - loss: 0.4495 - acc: 0.8004 - val_loss: 0.3717 - val_acc: 0.8262\n",
      "Epoch 4/100\n",
      "24/24 [==============================] - 13s - loss: 0.3997 - acc: 0.8399 - val_loss: 0.3633 - val_acc: 0.8411\n",
      "Epoch 5/100\n",
      "24/24 [==============================] - 13s - loss: 0.3777 - acc: 0.8382 - val_loss: 0.3423 - val_acc: 0.8467\n",
      "Epoch 6/100\n",
      "24/24 [==============================] - 13s - loss: 0.3930 - acc: 0.8261 - val_loss: 0.3376 - val_acc: 0.8449\n",
      "Epoch 7/100\n",
      "24/24 [==============================] - 13s - loss: 0.3104 - acc: 0.8671 - val_loss: 0.3079 - val_acc: 0.8617\n",
      "Epoch 8/100\n",
      "24/24 [==============================] - 13s - loss: 0.3136 - acc: 0.8639 - val_loss: 0.2771 - val_acc: 0.8561\n",
      "Epoch 9/100\n",
      "24/24 [==============================] - 13s - loss: 0.3307 - acc: 0.8511 - val_loss: 0.2779 - val_acc: 0.8598\n",
      "Epoch 10/100\n",
      "24/24 [==============================] - 12s - loss: 0.2658 - acc: 0.8830 - val_loss: 0.2775 - val_acc: 0.8804\n",
      "Epoch 11/100\n",
      "24/24 [==============================] - 13s - loss: 0.2572 - acc: 0.8812 - val_loss: 0.2766 - val_acc: 0.8822\n",
      "Epoch 12/100\n",
      "24/24 [==============================] - 13s - loss: 0.2630 - acc: 0.8830 - val_loss: 0.2895 - val_acc: 0.8617\n",
      "Epoch 13/100\n",
      "24/24 [==============================] - 13s - loss: 0.2533 - acc: 0.8888 - val_loss: 0.2455 - val_acc: 0.8916\n",
      "Epoch 14/100\n",
      "24/24 [==============================] - 13s - loss: 0.2569 - acc: 0.8911 - val_loss: 0.3326 - val_acc: 0.8579\n",
      "Epoch 15/100\n",
      "24/24 [==============================] - 13s - loss: 0.2404 - acc: 0.8963 - val_loss: 0.2448 - val_acc: 0.8897\n",
      "Epoch 16/100\n",
      "24/24 [==============================] - 13s - loss: 0.2177 - acc: 0.9059 - val_loss: 0.2318 - val_acc: 0.9009\n",
      "Epoch 17/100\n",
      "24/24 [==============================] - 13s - loss: 0.2351 - acc: 0.9012 - val_loss: 0.2372 - val_acc: 0.8953\n",
      "Epoch 18/100\n",
      "24/24 [==============================] - 13s - loss: 0.2311 - acc: 0.9067 - val_loss: 0.2534 - val_acc: 0.8841\n",
      "Epoch 19/100\n",
      "24/24 [==============================] - 13s - loss: 0.2117 - acc: 0.9145 - val_loss: 0.2333 - val_acc: 0.8972\n",
      "Epoch 20/100\n",
      "24/24 [==============================] - 13s - loss: 0.1994 - acc: 0.9202 - val_loss: 0.2194 - val_acc: 0.9028\n",
      "Epoch 21/100\n",
      "24/24 [==============================] - 13s - loss: 0.1835 - acc: 0.9264 - val_loss: 0.2511 - val_acc: 0.8972\n",
      "Epoch 22/100\n",
      "24/24 [==============================] - 12s - loss: 0.2186 - acc: 0.9063 - val_loss: 0.2425 - val_acc: 0.8991\n",
      "Epoch 23/100\n",
      "24/24 [==============================] - 13s - loss: 0.1720 - acc: 0.9298 - val_loss: 0.2177 - val_acc: 0.9084\n",
      "Epoch 24/100\n",
      "24/24 [==============================] - 13s - loss: 0.1841 - acc: 0.9308 - val_loss: 0.2330 - val_acc: 0.9065\n",
      "Epoch 25/100\n",
      "24/24 [==============================] - 12s - loss: 0.1714 - acc: 0.9375 - val_loss: 0.2440 - val_acc: 0.9121\n",
      "Epoch 26/100\n",
      "24/24 [==============================] - 13s - loss: 0.1762 - acc: 0.9256 - val_loss: 0.2539 - val_acc: 0.9028\n",
      "Epoch 27/100\n",
      "24/24 [==============================] - 12s - loss: 0.1733 - acc: 0.9329 - val_loss: 0.2378 - val_acc: 0.9047\n",
      "Epoch 28/100\n",
      "24/24 [==============================] - 13s - loss: 0.1403 - acc: 0.9393 - val_loss: 0.2381 - val_acc: 0.9084\n",
      "Epoch 29/100\n",
      "24/24 [==============================] - 13s - loss: 0.2059 - acc: 0.9160 - val_loss: 0.2223 - val_acc: 0.9103\n",
      "('Train loss:', 0.12564999803071328)\n",
      "('Train accuracy:', 0.94855004677268473)\n",
      "('Test loss:', 0.21771338459487274)\n",
      "('Test accuracy:', 0.9084112167358398)\n",
      "('\\n===================FOLD=', 2)\n",
      "Epoch 1/100\n",
      "24/24 [==============================] - 14s - loss: 0.6875 - acc: 0.6021 - val_loss: 0.4813 - val_acc: 0.7551\n",
      "Epoch 2/100\n",
      "24/24 [==============================] - 13s - loss: 0.4718 - acc: 0.7650 - val_loss: 0.4023 - val_acc: 0.8187\n",
      "Epoch 3/100\n",
      "24/24 [==============================] - 13s - loss: 0.3939 - acc: 0.8125 - val_loss: 0.3322 - val_acc: 0.8636\n",
      "Epoch 4/100\n",
      "24/24 [==============================] - 13s - loss: 0.3519 - acc: 0.8296 - val_loss: 0.3016 - val_acc: 0.8598\n",
      "Epoch 5/100\n",
      "24/24 [==============================] - 13s - loss: 0.3368 - acc: 0.8499 - val_loss: 0.3398 - val_acc: 0.8206\n",
      "Epoch 6/100\n",
      "24/24 [==============================] - 13s - loss: 0.2794 - acc: 0.8704 - val_loss: 0.3202 - val_acc: 0.8393\n",
      "Epoch 7/100\n",
      "24/24 [==============================] - 13s - loss: 0.2798 - acc: 0.8808 - val_loss: 0.2896 - val_acc: 0.8710\n",
      "Epoch 8/100\n",
      "24/24 [==============================] - 13s - loss: 0.2620 - acc: 0.8838 - val_loss: 0.2526 - val_acc: 0.8916\n",
      "Epoch 9/100\n",
      "24/24 [==============================] - 13s - loss: 0.2428 - acc: 0.8947 - val_loss: 0.2799 - val_acc: 0.8916\n",
      "Epoch 10/100\n",
      "24/24 [==============================] - 12s - loss: 0.2458 - acc: 0.8826 - val_loss: 0.2724 - val_acc: 0.8822\n",
      "Epoch 11/100\n",
      "24/24 [==============================] - 13s - loss: 0.2154 - acc: 0.9006 - val_loss: 0.2786 - val_acc: 0.8654\n",
      "Epoch 12/100\n",
      "24/24 [==============================] - 13s - loss: 0.2303 - acc: 0.9019 - val_loss: 0.2612 - val_acc: 0.8879\n",
      "Epoch 13/100\n",
      "24/24 [==============================] - 13s - loss: 0.2067 - acc: 0.9170 - val_loss: 0.2548 - val_acc: 0.8953\n",
      "Epoch 14/100\n",
      "24/24 [==============================] - 13s - loss: 0.2219 - acc: 0.9080 - val_loss: 0.2657 - val_acc: 0.9028\n",
      "('Train loss:', 0.21503406676652836)\n",
      "('Train accuracy:', 0.91487371458753008)\n",
      "('Test loss:', 0.25260141124235136)\n",
      "('Test accuracy:', 0.89158878593801338)\n",
      "('\\n===================FOLD=', 3)\n",
      "Epoch 1/100\n",
      "24/24 [==============================] - 14s - loss: 0.8189 - acc: 0.5563 - val_loss: 0.6989 - val_acc: 0.5300\n",
      "Epoch 2/100\n",
      "24/24 [==============================] - 13s - loss: 0.7155 - acc: 0.5304 - val_loss: 0.6882 - val_acc: 0.6311\n",
      "Epoch 3/100\n",
      "24/24 [==============================] - 13s - loss: 0.7134 - acc: 0.5241 - val_loss: 0.6691 - val_acc: 0.6573\n",
      "Epoch 4/100\n",
      "24/24 [==============================] - 13s - loss: 0.6620 - acc: 0.5928 - val_loss: 0.5640 - val_acc: 0.6779\n",
      "Epoch 5/100\n",
      "24/24 [==============================] - 13s - loss: 0.5660 - acc: 0.6976 - val_loss: 0.4978 - val_acc: 0.7509\n",
      "Epoch 6/100\n",
      "24/24 [==============================] - 13s - loss: 0.5573 - acc: 0.6925 - val_loss: 0.4960 - val_acc: 0.7640\n",
      "Epoch 7/100\n",
      "24/24 [==============================] - 13s - loss: 0.4914 - acc: 0.7454 - val_loss: 0.4355 - val_acc: 0.7921\n",
      "Epoch 8/100\n",
      "24/24 [==============================] - 13s - loss: 0.4397 - acc: 0.7983 - val_loss: 0.3982 - val_acc: 0.8296\n",
      "Epoch 9/100\n",
      "24/24 [==============================] - 13s - loss: 0.4053 - acc: 0.8183 - val_loss: 0.3724 - val_acc: 0.8408\n",
      "Epoch 10/100\n",
      "24/24 [==============================] - 13s - loss: 0.3756 - acc: 0.8337 - val_loss: 0.3687 - val_acc: 0.8427\n",
      "Epoch 11/100\n",
      "24/24 [==============================] - 13s - loss: 0.3657 - acc: 0.8404 - val_loss: 0.4911 - val_acc: 0.7828\n",
      "Epoch 12/100\n",
      "24/24 [==============================] - 13s - loss: 0.3612 - acc: 0.8354 - val_loss: 0.3419 - val_acc: 0.8464\n",
      "Epoch 13/100\n",
      "24/24 [==============================] - 13s - loss: 0.3347 - acc: 0.8435 - val_loss: 0.3273 - val_acc: 0.8614\n",
      "Epoch 14/100\n",
      "24/24 [==============================] - 13s - loss: 0.3150 - acc: 0.8595 - val_loss: 0.2998 - val_acc: 0.8596\n",
      "Epoch 15/100\n",
      "24/24 [==============================] - 13s - loss: 0.3188 - acc: 0.8535 - val_loss: 0.2674 - val_acc: 0.8895\n",
      "Epoch 16/100\n",
      "24/24 [==============================] - 13s - loss: 0.3006 - acc: 0.8528 - val_loss: 0.3347 - val_acc: 0.8390\n",
      "Epoch 17/100\n",
      "24/24 [==============================] - 14s - loss: 0.2681 - acc: 0.8785 - val_loss: 0.2393 - val_acc: 0.8914\n",
      "Epoch 18/100\n",
      "24/24 [==============================] - 13s - loss: 0.2742 - acc: 0.8744 - val_loss: 0.2355 - val_acc: 0.8895\n",
      "Epoch 19/100\n",
      "24/24 [==============================] - 13s - loss: 0.2563 - acc: 0.8850 - val_loss: 0.3229 - val_acc: 0.8670\n",
      "Epoch 20/100\n",
      "24/24 [==============================] - 13s - loss: 0.2573 - acc: 0.8882 - val_loss: 0.2226 - val_acc: 0.9045\n",
      "Epoch 21/100\n"
     ]
    },
    {
     "name": "stdout",
     "output_type": "stream",
     "text": [
      "24/24 [==============================] - 13s - loss: 0.2335 - acc: 0.8978 - val_loss: 0.2446 - val_acc: 0.8858\n",
      "Epoch 22/100\n",
      "24/24 [==============================] - 13s - loss: 0.2469 - acc: 0.8902 - val_loss: 0.2494 - val_acc: 0.8914\n",
      "Epoch 23/100\n",
      "24/24 [==============================] - 13s - loss: 0.2560 - acc: 0.8894 - val_loss: 0.2245 - val_acc: 0.9082\n",
      "Epoch 24/100\n",
      "24/24 [==============================] - 13s - loss: 0.2393 - acc: 0.8948 - val_loss: 0.2547 - val_acc: 0.9064\n",
      "Epoch 25/100\n",
      "24/24 [==============================] - 13s - loss: 0.2213 - acc: 0.9137 - val_loss: 0.2237 - val_acc: 0.9082\n",
      "Epoch 26/100\n",
      "24/24 [==============================] - 13s - loss: 0.2118 - acc: 0.9183 - val_loss: 0.2326 - val_acc: 0.9101\n",
      "('Train loss:', 0.21642523976129907)\n",
      "('Train accuracy:', 0.90747663595966088)\n",
      "('Test loss:', 0.22260746516091992)\n",
      "('Test accuracy:', 0.9044943831386637)\n",
      "('\\n Train Log Loss Validation= ', 0.18046839225744929)\n",
      "(' Valid Log Loss Validation= ', 0.23097930139509801)\n"
     ]
    }
   ],
   "source": [
    "exp_name = \"_3ch3gradavg\"\n",
    "train_preds , val_preds, test_preds, train_log_loss,valid_log_loss = trainKfold(X_train, X_angle, X_test)"
   ]
  },
  {
   "cell_type": "code",
   "execution_count": 76,
   "metadata": {},
   "outputs": [],
   "source": [
    "pickle.dump(file=open(\"cache/{}_tmp_results.dmp\".format(exp_name),\"wb\"), obj=[train_preds , val_preds, test_preds, train_log_loss,valid_log_loss])\n"
   ]
  },
  {
   "cell_type": "code",
   "execution_count": 62,
   "metadata": {},
   "outputs": [],
   "source": [
    "train_preds , val_preds, test_preds, train_log_loss, valid_log_loss = pickle.load(file=open(\"tmp_results.dmp\",\"rb\"))\n",
    "\n",
    "\n",
    "    "
   ]
  },
  {
   "cell_type": "markdown",
   "metadata": {},
   "source": [
    "### TTA\n"
   ]
  },
  {
   "cell_type": "code",
   "execution_count": null,
   "metadata": {},
   "outputs": [],
   "source": [
    "def make_TTA_preds(exp_name):\n",
    "\n",
    "    K=3\n",
    "    y_test_pred_log = 0\n",
    "    \n",
    "    \n",
    "\n",
    "    def gen_flow_for_two_inputs_test(test_gen, X1, X2):\n",
    "        genX2 = test_gen.flow(X1,X2, batch_size=8,shuffle=False)\n",
    "        while True:\n",
    "                X2i = genX2.next()\n",
    "                yield [X2i[0], X2i[1]]\n",
    "\n",
    "    partials = []\n",
    "    \n",
    "    \n",
    "    for j in range(K):\n",
    "        print('\\n===================FOLD=',j+1)\n",
    "        \n",
    "        model= getModel()\n",
    "\n",
    "        #Getting the Best Model\n",
    "        model.load_weights(\"weights/{}_{}.hdf5\".format(exp_name,j+1))\n",
    "        #Getting Training Score\n",
    "\n",
    "        \n",
    "        test_gen = ImageDataGenerator(horizontal_flip = True,\n",
    "                                      vertical_flip = True, \n",
    "                                      width_shift_range = 0.,  \n",
    "                                      height_shift_range = 0.,      \n",
    "                                      channel_shift_range=0,        \n",
    "                                      zoom_range = 0.2,         \n",
    "                                      rotation_range = 10)   \n",
    "\n",
    "\n",
    "        preds = np.zeros((test.shape[0],1)).astype(np.float32) \n",
    "\n",
    "        num_aug = 5\n",
    "        for i in range(num_aug):\n",
    "            gen_flow_test = gen_flow_for_two_inputs_test(test_gen, X_test, X_test_angle)\n",
    "            preds += model.predict_generator(gen_flow_test,steps=test.shape[0]/8, verbose=1).reshape(-1,1)\n",
    "\n",
    "\n",
    "        partials.append(preds/num_aug)    \n",
    "        temp_test=preds/num_aug\n",
    "        y_test_pred_log+=temp_test.reshape(temp_test.shape[0])                           \n",
    "                           \n",
    "\n",
    "    y_test_pred_log=y_test_pred_log/K\n",
    "\n",
    "\n",
    "    \n",
    "    return y_test_pred_log, partials\n",
    "\n",
    "\n",
    "    \n",
    "tta_preds_3fold_baseline,partials = make_TTA_preds(\"_3fold_baseline\")    \n"
   ]
  },
  {
   "cell_type": "markdown",
   "metadata": {},
   "source": [
    "### Submission"
   ]
  },
  {
   "cell_type": "code",
   "execution_count": 77,
   "metadata": {},
   "outputs": [],
   "source": [
    "\n",
    "def update_results_h5(phase, exp_name, train_id, test_id, train_preds, val_preds,test_preds, train_log_loss,valid_log_loss, LB_score=0.0):\n",
    "\t\t\n",
    "\t\ttrain_preds  = pd.DataFrame(data={\"is_iceberg\":train_preds})\n",
    "\t\ttrain_preds[\"id\"]=train_id.astype(str)\n",
    "\t\ttrain_preds.set_index(\"id\",inplace=True)\n",
    "\n",
    "\t\t\n",
    "\t\t\n",
    "\t\tval_preds  = pd.DataFrame(data={\"id\":train['id'],\"is_iceberg\":val_preds})\n",
    "\t\tval_preds[\"id\"]=train_id.astype(str)\n",
    "\t\tval_preds.set_index(\"id\",inplace=True)\n",
    "\t\t\n",
    "\t\t\n",
    "\t\t\n",
    "\t\tsubmission = pd.DataFrame()\n",
    "\t\tsubmission['id']=test_id\n",
    "\t\tsubmission['is_iceberg']=test_preds\n",
    "\t\tsubmission.to_csv('subm/{}.csv'.format(exp_name), index=False)\n",
    "\n",
    "\t\tsubmission['id']=test['id'].astype(str)\n",
    "\t\tsubmission.set_index(\"id\",inplace=True)\n",
    "\n",
    "\n",
    "\t\t\n",
    "\t\ttrain_preds.to_hdf('data/results.h5',\"/{}/train/{}\".format(phase,exp_name))\n",
    "\t\tval_preds.to_hdf('data/results.h5',\"/{}/valid/{}\".format(phase,exp_name))\n",
    "\t\tsubmission.to_hdf('data/results.h5',\"/{}/test/{}\".format(phase,exp_name))\n",
    "\n",
    "\n",
    "\n",
    "\t\t\n",
    "\n",
    "\t\tstore = pd.HDFStore('data/results.h5')\n",
    "\n",
    "\t\tstore.append(\"/summary\",pd.DataFrame(data={\"phase\":[phase],\n",
    "\t\t\t\t\t\t\t\t\t\t\t\t\t\t\t\t\t\t\t\t\t\t\t \"exp\":[exp_name],\n",
    "\t\t\t\t\t\t\t\t\t\t\t\t\t\t\t\t\t\t\t\t\t\t\t \"train_log_loss\":[train_log_loss],\n",
    "\t\t\t\t\t\t\t\t\t\t\t\t\t\t\t\t\t\t\t\t\t\t\t \"val_log_loss\":[valid_log_loss], \n",
    "\t\t\t\t\t\t\t\t\t\t\t\t\t\t\t\t\t\t\t\t\t\t\t \"LB\":[LB_score] }) )  \n",
    "\n",
    "\t\tstore.close()"
   ]
  },
  {
   "cell_type": "code",
   "execution_count": 78,
   "metadata": {},
   "outputs": [],
   "source": [
    "update_results_h5(\"ph1\", exp_name, train[\"id\"], test[\"id\"], \n",
    "                  train_preds, val_preds,test_preds, train_log_loss,valid_log_loss, LB_score=0. )"
   ]
  },
  {
   "cell_type": "code",
   "execution_count": 63,
   "metadata": {},
   "outputs": [],
   "source": [
    "train_preds  = pd.DataFrame(data={\"is_iceberg\":train_preds})\n",
    "train_preds[\"id\"]=train['id'].astype(str)\n",
    "train_preds.set_index(\"id\",inplace=True)\n",
    "\n",
    "\n"
   ]
  },
  {
   "cell_type": "code",
   "execution_count": 45,
   "metadata": {},
   "outputs": [],
   "source": [
    "### Submissionval_preds  = pd.DataFrame(data={\"id\":train['id'],\"is_iceberg\":val_preds})\n",
    "val_preds[\"id\"]=train['id'].astype(str)\n",
    "val_preds.set_index(\"id\",inplace=True)"
   ]
  },
  {
   "cell_type": "markdown",
   "metadata": {},
   "source": []
  },
  {
   "cell_type": "code",
   "execution_count": 25,
   "metadata": {
    "_cell_guid": "012fc91e-17ff-4163-a32d-79007feba4fc",
    "_uuid": "2e7f1db4b36211939fb9650e3b721ac8db09dda2"
   },
   "outputs": [],
   "source": [
    "#Submission for each day.\n",
    "submission = pd.DataFrame()\n",
    "submission['id']=test['id'].astype(str)\n",
    "submission['is_iceberg']= tta_preds_3fold_baseline\n",
    "submission.to_csv('subm/{}.csv'.format(\"_3f_tta\"), index=False)\n",
    "\n",
    "submission.set_index(\"id\",inplace=True)"
   ]
  },
  {
   "cell_type": "code",
   "execution_count": 2,
   "metadata": {},
   "outputs": [],
   "source": [
    "import pandas as pd "
   ]
  },
  {
   "cell_type": "code",
   "execution_count": 3,
   "metadata": {},
   "outputs": [],
   "source": [
    "store = pd.HDFStore('data/results.h5')\n"
   ]
  },
  {
   "cell_type": "code",
   "execution_count": 45,
   "metadata": {},
   "outputs": [
    {
     "data": {
      "text/plain": [
       "array([[ 1.        ,  0.80484443],\n",
       "       [ 0.80484443,  1.        ]])"
      ]
     },
     "execution_count": 45,
     "metadata": {},
     "output_type": "execute_result"
    }
   ],
   "source": [
    "np.corrcoef(store.select(\"/ph1/valid/_5fold_baseline\").values.ravel(), store.select(\"/ph1/train/_5fold_baseline\").values.ravel())"
   ]
  },
  {
   "cell_type": "code",
   "execution_count": 8,
   "metadata": {},
   "outputs": [],
   "source": [
    "store.close()"
   ]
  },
  {
   "cell_type": "code",
   "execution_count": 4,
   "metadata": {},
   "outputs": [
    {
     "data": {
      "text/plain": [
       "['/summary',\n",
       " '/ph1/test/_3f_aug0_1',\n",
       " '/ph1/test/_3f_imgstats',\n",
       " '/ph1/test/_3f_xception',\n",
       " '/ph1/test/_3fmax_tflat',\n",
       " '/ph1/test/_3fold_1xconvs',\n",
       " '/ph1/test/_3fold_1xconvs_nobninthestart',\n",
       " '/ph1/test/_3fold_baseline',\n",
       " '/ph1/test/_5fold_baseline',\n",
       " '/ph1/test/_5fold_fcn',\n",
       " '/ph1/train/_3f_aug0_1',\n",
       " '/ph1/train/_3f_imgstats',\n",
       " '/ph1/train/_3f_xception',\n",
       " '/ph1/train/_3fmax_tflat',\n",
       " '/ph1/train/_3fold_1xconvs',\n",
       " '/ph1/train/_3fold_1xconvs_nobninthestart',\n",
       " '/ph1/train/_3fold_baseline',\n",
       " '/ph1/train/_5fold_baseline',\n",
       " '/ph1/train/_5fold_fcn',\n",
       " '/ph1/valid/_3f_aug0_1',\n",
       " '/ph1/valid/_3f_imgstats',\n",
       " '/ph1/valid/_3f_xception',\n",
       " '/ph1/valid/_3fmax_tflat',\n",
       " '/ph1/valid/_3fold_1xconvs',\n",
       " '/ph1/valid/_3fold_1xconvs_nobninthestart',\n",
       " '/ph1/valid/_3fold_baseline',\n",
       " '/ph1/valid/_5fold_baseline',\n",
       " '/ph1/valid/_5fold_fcn']"
      ]
     },
     "execution_count": 4,
     "metadata": {},
     "output_type": "execute_result"
    }
   ],
   "source": [
    "store.keys()"
   ]
  },
  {
   "cell_type": "code",
   "execution_count": 7,
   "metadata": {},
   "outputs": [],
   "source": [
    "store.get('/ph1/test/_3fold_baseline').reset_index().to_csv(\"subm/_3fold_baseline.csv\",index=False)"
   ]
  },
  {
   "cell_type": "code",
   "execution_count": 82,
   "metadata": {},
   "outputs": [],
   "source": [
    "benchmark3cv = pd.read_csv(\"subm/sub_benchmark.csv\")"
   ]
  },
  {
   "cell_type": "code",
   "execution_count": 84,
   "metadata": {},
   "outputs": [],
   "source": [
    "benchmark3cv.set_index('id',inplace=True)"
   ]
  },
  {
   "cell_type": "code",
   "execution_count": 92,
   "metadata": {},
   "outputs": [
    {
     "data": {
      "text/html": [
       "<div>\n",
       "<style scoped>\n",
       "    .dataframe tbody tr th:only-of-type {\n",
       "        vertical-align: middle;\n",
       "    }\n",
       "\n",
       "    .dataframe tbody tr th {\n",
       "        vertical-align: top;\n",
       "    }\n",
       "\n",
       "    .dataframe thead th {\n",
       "        text-align: right;\n",
       "    }\n",
       "</style>\n",
       "<table border=\"1\" class=\"dataframe\">\n",
       "  <thead>\n",
       "    <tr style=\"text-align: right;\">\n",
       "      <th></th>\n",
       "      <th>is_iceberg_3cv</th>\n",
       "      <th>is_iceberg</th>\n",
       "    </tr>\n",
       "  </thead>\n",
       "  <tbody>\n",
       "    <tr>\n",
       "      <th>is_iceberg_3cv</th>\n",
       "      <td>1.000000</td>\n",
       "      <td>0.975071</td>\n",
       "    </tr>\n",
       "    <tr>\n",
       "      <th>is_iceberg</th>\n",
       "      <td>0.975071</td>\n",
       "      <td>1.000000</td>\n",
       "    </tr>\n",
       "  </tbody>\n",
       "</table>\n",
       "</div>"
      ],
      "text/plain": [
       "                is_iceberg_3cv  is_iceberg\n",
       "is_iceberg_3cv        1.000000    0.975071\n",
       "is_iceberg            0.975071    1.000000"
      ]
     },
     "execution_count": 92,
     "metadata": {},
     "output_type": "execute_result"
    }
   ],
   "source": [
    "benchmark3cv.join(store.get(\"/ph1/test/_5fold_baseline\"),lsuffix=\"_3cv\").corr()"
   ]
  }
 ],
 "metadata": {
  "kernelspec": {
   "display_name": "Python [conda root]",
   "language": "python",
   "name": "conda-root-py"
  },
  "language_info": {
   "codemirror_mode": {
    "name": "ipython",
    "version": 2
   },
   "file_extension": ".py",
   "mimetype": "text/x-python",
   "name": "python",
   "nbconvert_exporter": "python",
   "pygments_lexer": "ipython2",
   "version": "2.7.14"
  }
 },
 "nbformat": 4,
 "nbformat_minor": 1
}
